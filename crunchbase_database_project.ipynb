{
 "cells": [
  {
   "cell_type": "markdown",
   "metadata": {
    "collapsed": true
   },
   "source": [
    "# Analyzing Startup Fundraising Deals from Crunchbase"
   ]
  },
  {
   "cell_type": "markdown",
   "metadata": {},
   "source": [
    "## Introduction"
   ]
  },
  {
   "cell_type": "markdown",
   "metadata": {},
   "source": [
    "In this project, we will reduce memory usage consumed by a dataset. Beyond that, we will load it in chunks into a new SQLite database. Our data is startup investments from Crunchbase.com while working with memory constraints.\n",
    "\n",
    "Since the information on the startups and their fundraising rounds is always changing and the dataset is from October 2013, the dataset we'll be using isn't completely up to date. It can be downloaded [here](https://github.com/datahoarder/crunchbase-october-2013/blob/master/crunchbase-investments.csv).\n",
    "\n",
    "The dataset consumes 10.3 megabytes of disk space, and pandas requires 4 to 6 times the amount of space in memory the file does on disk. However, we'll assume we only have 10 megabytes of available memory. "
   ]
  },
  {
   "cell_type": "markdown",
   "metadata": {},
   "source": [
    "## Overview of the Data"
   ]
  },
  {
   "cell_type": "markdown",
   "metadata": {},
   "source": [
    "Since the dataset contains over 50,000 rows, we'll need to read the dataset into dataframes using 5,000 row chunks to ensure that each chunk consumes less than 10 megabytes of memory."
   ]
  },
  {
   "cell_type": "markdown",
   "metadata": {},
   "source": [
    "### Missing values"
   ]
  },
  {
   "cell_type": "code",
   "execution_count": 1,
   "metadata": {},
   "outputs": [
    {
     "name": "stdout",
     "output_type": "stream",
     "text": [
      "company_country_code          1\n",
      "company_name                  1\n",
      "company_permalink             1\n",
      "company_region                1\n",
      "investor_region               2\n",
      "investor_permalink            2\n",
      "investor_name                 2\n",
      "funded_quarter                3\n",
      "funded_at                     3\n",
      "funded_month                  3\n",
      "funded_year                   3\n",
      "funding_round_type            3\n",
      "company_state_code          492\n",
      "company_city                533\n",
      "company_category_code       643\n",
      "raised_amount_usd          3599\n",
      "investor_country_code     12001\n",
      "investor_city             12480\n",
      "investor_state_code       16809\n",
      "investor_category_code    50427\n",
      "dtype: int64\n"
     ]
    }
   ],
   "source": [
    "# Calculate missing values in each columns\n",
    "import pandas as pd\n",
    "pd.options.display.max_columns = 99\n",
    "crunchbase_chunks = pd.read_csv('crunchbase-investments.csv', chunksize=5000, encoding='ISO-8859-1')\n",
    "\n",
    "missing = []\n",
    "for chunk in crunchbase_chunks:\n",
    "    chunk_null = chunk.isnull().sum()\n",
    "    missing.append(chunk_null)\n",
    "    \n",
    "combined_missing = pd.concat(missing)\n",
    "combined_missing = combined_missing.groupby(combined_missing.index).sum().sort_values()\n",
    "print(combined_missing)\n"
   ]
  },
  {
   "cell_type": "markdown",
   "metadata": {},
   "source": [
    "### Memory footprint"
   ]
  },
  {
   "cell_type": "code",
   "execution_count": 2,
   "metadata": {},
   "outputs": [
    {
     "name": "stdout",
     "output_type": "stream",
     "text": [
      "company_category_code     3421104\n",
      "company_city              3505926\n",
      "company_country_code      3172176\n",
      "company_name              3591326\n",
      "company_permalink         4057788\n",
      "company_region            3411585\n",
      "company_state_code        3106051\n",
      "funded_at                 3542185\n",
      "funded_month              3383584\n",
      "funded_quarter            3383584\n",
      "funded_year                422960\n",
      "funding_round_type        3410707\n",
      "investor_category_code     622424\n",
      "investor_city             2885083\n",
      "investor_country_code     2647292\n",
      "investor_name             3915666\n",
      "investor_permalink        4980548\n",
      "investor_region           3396281\n",
      "investor_state_code       2476607\n",
      "raised_amount_usd          422960\n",
      "dtype: int64\n"
     ]
    }
   ],
   "source": [
    "# Calculate each column's memory footprint\n",
    "chunks = pd.read_csv('crunchbase-investments.csv', chunksize=5000, encoding='ISO-8859-1')\n",
    "\n",
    "cols_memory = []\n",
    "for chunk in chunks:\n",
    "    cols_chunk_memory = chunk.memory_usage(deep=True)\n",
    "    cols_memory.append(cols_chunk_memory)\n",
    "\n",
    "combined_cols_memory = pd.concat(cols_memory)\n",
    "combined_cols_memory = combined_cols_memory.groupby(combined_cols_memory.index).sum().drop('Index')\n",
    "print(combined_cols_memory)"
   ]
  },
  {
   "cell_type": "code",
   "execution_count": 3,
   "metadata": {},
   "outputs": [
    {
     "data": {
      "text/plain": [
       "56.9876070022583"
      ]
     },
     "execution_count": 3,
     "metadata": {},
     "output_type": "execute_result"
    }
   ],
   "source": [
    "# Calculate total memory footprint of all chunks combined in megabytes\n",
    "total_memory = combined_cols_memory.sum() / (2**20)\n",
    "total_memory"
   ]
  },
  {
   "cell_type": "markdown",
   "metadata": {},
   "source": [
    "We can drop some columns because they aren't useful for future analysis. For instance, columns with many missing values."
   ]
  },
  {
   "cell_type": "code",
   "execution_count": 4,
   "metadata": {},
   "outputs": [
    {
     "name": "stdout",
     "output_type": "stream",
     "text": [
      "company_country_code          1\n",
      "company_name                  1\n",
      "company_permalink             1\n",
      "company_region                1\n",
      "investor_region               2\n",
      "investor_permalink            2\n",
      "investor_name                 2\n",
      "funding_round_type            3\n",
      "funded_year                   3\n",
      "funded_month                  3\n",
      "funded_at                     3\n",
      "funded_quarter                3\n",
      "company_state_code          492\n",
      "company_city                533\n",
      "company_category_code       643\n",
      "raised_amount_usd          3599\n",
      "investor_country_code     12001\n",
      "investor_city             12480\n",
      "investor_state_code       16809\n",
      "investor_category_code    50427\n",
      "dtype: int64\n"
     ]
    },
    {
     "data": {
      "text/html": [
       "<div>\n",
       "<style scoped>\n",
       "    .dataframe tbody tr th:only-of-type {\n",
       "        vertical-align: middle;\n",
       "    }\n",
       "\n",
       "    .dataframe tbody tr th {\n",
       "        vertical-align: top;\n",
       "    }\n",
       "\n",
       "    .dataframe thead th {\n",
       "        text-align: right;\n",
       "    }\n",
       "</style>\n",
       "<table border=\"1\" class=\"dataframe\">\n",
       "  <thead>\n",
       "    <tr style=\"text-align: right;\">\n",
       "      <th></th>\n",
       "      <th>company_permalink</th>\n",
       "      <th>company_name</th>\n",
       "      <th>company_category_code</th>\n",
       "      <th>company_country_code</th>\n",
       "      <th>company_state_code</th>\n",
       "      <th>company_region</th>\n",
       "      <th>company_city</th>\n",
       "      <th>investor_permalink</th>\n",
       "      <th>investor_name</th>\n",
       "      <th>investor_category_code</th>\n",
       "      <th>investor_country_code</th>\n",
       "      <th>investor_state_code</th>\n",
       "      <th>investor_region</th>\n",
       "      <th>investor_city</th>\n",
       "      <th>funding_round_type</th>\n",
       "      <th>funded_at</th>\n",
       "      <th>funded_month</th>\n",
       "      <th>funded_quarter</th>\n",
       "      <th>funded_year</th>\n",
       "      <th>raised_amount_usd</th>\n",
       "    </tr>\n",
       "  </thead>\n",
       "  <tbody>\n",
       "    <tr>\n",
       "      <th>0</th>\n",
       "      <td>/company/advercar</td>\n",
       "      <td>AdverCar</td>\n",
       "      <td>advertising</td>\n",
       "      <td>USA</td>\n",
       "      <td>CA</td>\n",
       "      <td>SF Bay</td>\n",
       "      <td>San Francisco</td>\n",
       "      <td>/company/1-800-flowers-com</td>\n",
       "      <td>1-800-FLOWERS.COM</td>\n",
       "      <td>NaN</td>\n",
       "      <td>USA</td>\n",
       "      <td>NY</td>\n",
       "      <td>New York</td>\n",
       "      <td>New York</td>\n",
       "      <td>series-a</td>\n",
       "      <td>2012-10-30</td>\n",
       "      <td>2012-10</td>\n",
       "      <td>2012-Q4</td>\n",
       "      <td>2012</td>\n",
       "      <td>2000000</td>\n",
       "    </tr>\n",
       "    <tr>\n",
       "      <th>1</th>\n",
       "      <td>/company/launchgram</td>\n",
       "      <td>LaunchGram</td>\n",
       "      <td>news</td>\n",
       "      <td>USA</td>\n",
       "      <td>CA</td>\n",
       "      <td>SF Bay</td>\n",
       "      <td>Mountain View</td>\n",
       "      <td>/company/10xelerator</td>\n",
       "      <td>10Xelerator</td>\n",
       "      <td>finance</td>\n",
       "      <td>USA</td>\n",
       "      <td>OH</td>\n",
       "      <td>Columbus</td>\n",
       "      <td>Columbus</td>\n",
       "      <td>other</td>\n",
       "      <td>2012-01-23</td>\n",
       "      <td>2012-01</td>\n",
       "      <td>2012-Q1</td>\n",
       "      <td>2012</td>\n",
       "      <td>20000</td>\n",
       "    </tr>\n",
       "    <tr>\n",
       "      <th>2</th>\n",
       "      <td>/company/utap</td>\n",
       "      <td>uTaP</td>\n",
       "      <td>messaging</td>\n",
       "      <td>USA</td>\n",
       "      <td>NaN</td>\n",
       "      <td>United States - Other</td>\n",
       "      <td>NaN</td>\n",
       "      <td>/company/10xelerator</td>\n",
       "      <td>10Xelerator</td>\n",
       "      <td>finance</td>\n",
       "      <td>USA</td>\n",
       "      <td>OH</td>\n",
       "      <td>Columbus</td>\n",
       "      <td>Columbus</td>\n",
       "      <td>other</td>\n",
       "      <td>2012-01-01</td>\n",
       "      <td>2012-01</td>\n",
       "      <td>2012-Q1</td>\n",
       "      <td>2012</td>\n",
       "      <td>20000</td>\n",
       "    </tr>\n",
       "  </tbody>\n",
       "</table>\n",
       "</div>"
      ],
      "text/plain": [
       "     company_permalink company_name company_category_code  \\\n",
       "0    /company/advercar     AdverCar           advertising   \n",
       "1  /company/launchgram   LaunchGram                  news   \n",
       "2        /company/utap         uTaP             messaging   \n",
       "\n",
       "  company_country_code company_state_code         company_region  \\\n",
       "0                  USA                 CA                 SF Bay   \n",
       "1                  USA                 CA                 SF Bay   \n",
       "2                  USA                NaN  United States - Other   \n",
       "\n",
       "    company_city          investor_permalink      investor_name  \\\n",
       "0  San Francisco  /company/1-800-flowers-com  1-800-FLOWERS.COM   \n",
       "1  Mountain View        /company/10xelerator        10Xelerator   \n",
       "2            NaN        /company/10xelerator        10Xelerator   \n",
       "\n",
       "  investor_category_code investor_country_code investor_state_code  \\\n",
       "0                    NaN                   USA                  NY   \n",
       "1                finance                   USA                  OH   \n",
       "2                finance                   USA                  OH   \n",
       "\n",
       "  investor_region investor_city funding_round_type   funded_at funded_month  \\\n",
       "0        New York      New York           series-a  2012-10-30      2012-10   \n",
       "1        Columbus      Columbus              other  2012-01-23      2012-01   \n",
       "2        Columbus      Columbus              other  2012-01-01      2012-01   \n",
       "\n",
       "  funded_quarter  funded_year  raised_amount_usd  \n",
       "0        2012-Q4         2012            2000000  \n",
       "1        2012-Q1         2012              20000  \n",
       "2        2012-Q1         2012              20000  "
      ]
     },
     "execution_count": 4,
     "metadata": {},
     "output_type": "execute_result"
    }
   ],
   "source": [
    "# Read list of the amount of missing in each column and three rows from the dataset\n",
    "print(combined_missing.sort_values())\n",
    "three_rows = pd.read_csv('crunchbase-investments.csv', nrows=3)\n",
    "three_rows"
   ]
  },
  {
   "cell_type": "code",
   "execution_count": 5,
   "metadata": {},
   "outputs": [
    {
     "data": {
      "text/plain": [
       "['company_permalink',\n",
       " 'investor_permalink',\n",
       " 'investor_category_code',\n",
       " 'funded_at',\n",
       " 'funded_year',\n",
       " 'funded_month',\n",
       " 'funded_quarter']"
      ]
     },
     "execution_count": 5,
     "metadata": {},
     "output_type": "execute_result"
    }
   ],
   "source": [
    "useless_cols = ['company_permalink', 'investor_permalink', 'investor_category_code', 'funded_at','funded_year', 'funded_month', 'funded_quarter']\n",
    "useful_cols = chunk.columns.drop(useless_cols).tolist()\n",
    "\n",
    "useless_cols"
   ]
  },
  {
   "cell_type": "markdown",
   "metadata": {},
   "source": [
    "Reasons we considered these columns useless:\n",
    "* Columns representing URL's aren't important for our future analysis.\n",
    "* Column containing too many missing values won't help in our analysis.\n",
    "* The datetime columns are redundant and aren't important for future questions."
   ]
  },
  {
   "cell_type": "markdown",
   "metadata": {},
   "source": [
    "## Selecting Data Types"
   ]
  },
  {
   "cell_type": "markdown",
   "metadata": {},
   "source": [
    "Before adding the data into SQLite, we can identify the type of each column and see if we can save space by changing types."
   ]
  },
  {
   "cell_type": "code",
   "execution_count": 6,
   "metadata": {},
   "outputs": [
    {
     "data": {
      "text/plain": [
       "company_permalink          object\n",
       "company_name               object\n",
       "company_category_code      object\n",
       "company_country_code       object\n",
       "company_state_code         object\n",
       "company_region             object\n",
       "company_city               object\n",
       "investor_permalink         object\n",
       "investor_name              object\n",
       "investor_category_code    float64\n",
       "investor_country_code     float64\n",
       "investor_state_code       float64\n",
       "investor_region            object\n",
       "investor_city             float64\n",
       "funding_round_type         object\n",
       "funded_at                  object\n",
       "funded_month               object\n",
       "funded_quarter             object\n",
       "funded_year                 int64\n",
       "raised_amount_usd         float64\n",
       "dtype: object"
      ]
     },
     "execution_count": 6,
     "metadata": {},
     "output_type": "execute_result"
    }
   ],
   "source": [
    "# Identify the types for each column\n",
    "chunks = pd.read_csv('crunchbase-investments.csv', chunksize=5000, usecols=useful_cols, encoding='ISO-8859-1')\n",
    "chunk.dtypes"
   ]
  },
  {
   "cell_type": "markdown",
   "metadata": {},
   "source": [
    "However, we don't know if columns shift types across chunks."
   ]
  },
  {
   "cell_type": "code",
   "execution_count": 7,
   "metadata": {},
   "outputs": [
    {
     "data": {
      "text/plain": [
       "{'company_name': {'object'},\n",
       " 'company_category_code': {'object'},\n",
       " 'company_country_code': {'object'},\n",
       " 'company_state_code': {'object'},\n",
       " 'company_region': {'object'},\n",
       " 'company_city': {'object'},\n",
       " 'investor_name': {'object'},\n",
       " 'investor_country_code': {'float64', 'object'},\n",
       " 'investor_state_code': {'float64', 'object'},\n",
       " 'investor_region': {'object'},\n",
       " 'investor_city': {'float64', 'object'},\n",
       " 'funding_round_type': {'object'},\n",
       " 'raised_amount_usd': {'float64'}}"
      ]
     },
     "execution_count": 7,
     "metadata": {},
     "output_type": "execute_result"
    }
   ],
   "source": [
    "# Identify column type in each chunk\n",
    "chunks = pd.read_csv('crunchbase-investments.csv', chunksize=5000, usecols=useful_cols, encoding='ISO-8859-1')\n",
    "col_types = {}\n",
    "\n",
    "for chunk in chunks:\n",
    "    for col in chunk.columns:\n",
    "        if col not in col_types:\n",
    "            col_types[col] = [str(chunk[col].dtypes)]\n",
    "        else:\n",
    "            col_types[col].append(str(chunk[col].dtypes))\n",
    "            \n",
    "for col in col_types:\n",
    "    col_types[col] = set(col_types[col])\n",
    "    \n",
    "col_types"
   ]
  },
  {
   "cell_type": "markdown",
   "metadata": {},
   "source": [
    "These columns that shift the type across chunks can't be represented as numeric types since they are text. That's why we will convert all of them to object type."
   ]
  },
  {
   "cell_type": "code",
   "execution_count": 8,
   "metadata": {},
   "outputs": [
    {
     "data": {
      "text/plain": [
       "{'company_name': {'object'},\n",
       " 'company_category_code': {'object'},\n",
       " 'company_country_code': {'object'},\n",
       " 'company_state_code': {'object'},\n",
       " 'company_region': {'object'},\n",
       " 'company_city': {'object'},\n",
       " 'investor_name': {'object'},\n",
       " 'investor_country_code': {'object'},\n",
       " 'investor_state_code': {'object'},\n",
       " 'investor_region': {'object'},\n",
       " 'investor_city': {'object'},\n",
       " 'funding_round_type': {'object'},\n",
       " 'raised_amount_usd': {'float64'}}"
      ]
     },
     "execution_count": 8,
     "metadata": {},
     "output_type": "execute_result"
    }
   ],
   "source": [
    "# Columns to convert to object type\n",
    "convert = {'investor_country_code': 'object', 'investor_state_code': 'object', 'investor_city': 'object'}\n",
    "# Convert these columns to object type\n",
    "new_col_types = {}\n",
    "chunks = pd.read_csv('crunchbase-investments.csv', chunksize=5000, usecols=useful_cols, dtype=convert, header=0, encoding='ISO-8859-1')\n",
    "\n",
    "for chunk in chunks:\n",
    "    for col in chunk.columns:\n",
    "        if col not in new_col_types:\n",
    "            new_col_types[col] = [str(chunk[col].dtypes)]\n",
    "        else:\n",
    "            new_col_types[col].append(str(chunk[col].dtypes))\n",
    "            \n",
    "for col in new_col_types:\n",
    "    new_col_types[col] = set(new_col_types[col])\n",
    "    \n",
    "new_col_types"
   ]
  },
  {
   "cell_type": "markdown",
   "metadata": {},
   "source": [
    "Now, we can convert some object columns to category type where less than 50% of the values are unique."
   ]
  },
  {
   "cell_type": "code",
   "execution_count": 9,
   "metadata": {},
   "outputs": [
    {
     "name": "stdout",
     "output_type": "stream",
     "text": [
      "company_name         : 21.89% unique values\n",
      "company_category_code: 0.08% unique values\n",
      "company_country_code : 0.00% unique values\n",
      "company_state_code   : 0.10% unique values\n",
      "company_region       : 1.03% unique values\n",
      "company_city         : 2.35% unique values\n",
      "investor_name        : 19.79% unique values\n",
      "investor_country_code: 0.18% unique values\n",
      "investor_state_code  : 0.14% unique values\n",
      "investor_region      : 1.11% unique values\n",
      "investor_city        : 2.45% unique values\n",
      "funding_round_type   : 0.02% unique values\n"
     ]
    }
   ],
   "source": [
    "# Columns that less than 50% of the values are unique\n",
    "chunks = pd.read_csv('crunchbase-investments.csv', chunksize=5000, usecols=useful_cols, dtype=convert, header=0, encoding='ISO-8859-1')\n",
    "less_50_cols = []\n",
    "unique = {}\n",
    "for chunk in chunks:\n",
    "    cols = chunk.select_dtypes(include=['object'])\n",
    "    for col in cols:\n",
    "        if col not in unique:\n",
    "            unique[col] = [chunk[col].value_counts()]\n",
    "        else:\n",
    "            unique[col].append(chunk[col].value_counts())\n",
    "\n",
    "combined_unique = {}\n",
    "for col in cols:\n",
    "    combined_unique[col] = pd.concat(unique[col])\n",
    "    combined_unique[col] = combined_unique[col].groupby(combined_unique[col].index).sum()\n",
    "    per_col = len(combined_unique[col]) / combined_unique[col].sum()\n",
    "    if per_col < 0.5:\n",
    "        print(f'{col:21}: {per_col * 100:.2f}% unique values')\n",
    "        less_50_cols.append(col)"
   ]
  },
  {
   "cell_type": "code",
   "execution_count": 10,
   "metadata": {},
   "outputs": [
    {
     "data": {
      "text/plain": [
       "{'company_name': {'category'},\n",
       " 'company_category_code': {'category'},\n",
       " 'company_country_code': {'category'},\n",
       " 'company_state_code': {'category'},\n",
       " 'company_region': {'category'},\n",
       " 'company_city': {'category'},\n",
       " 'investor_name': {'category'},\n",
       " 'investor_country_code': {'category'},\n",
       " 'investor_state_code': {'category'},\n",
       " 'investor_region': {'category'},\n",
       " 'investor_city': {'category'},\n",
       " 'funding_round_type': {'category'},\n",
       " 'raised_amount_usd': {'float64'}}"
      ]
     },
     "execution_count": 10,
     "metadata": {},
     "output_type": "execute_result"
    }
   ],
   "source": [
    "# Convert less_50_cols to category type\n",
    "chunks = pd.read_csv('crunchbase-investments.csv', chunksize=5000, usecols=useful_cols, dtype=convert, header=0, encoding='ISO-8859-1')\n",
    "new_col_types = {}\n",
    "\n",
    "for chunk in chunks:\n",
    "    for col in less_50_cols:\n",
    "        chunk[col] = chunk[col].astype('category')\n",
    "        \n",
    "    for col in chunk.columns:\n",
    "        if col not in new_col_types:\n",
    "            new_col_types[col] = [str(chunk[col].dtypes)]\n",
    "        else:\n",
    "            new_col_types[col].append(str(chunk[col].dtypes))\n",
    "            \n",
    "for col in new_col_types:\n",
    "    new_col_types[col] = set(new_col_types[col])\n",
    "    \n",
    "new_col_types"
   ]
  },
  {
   "cell_type": "markdown",
   "metadata": {},
   "source": [
    "We will change the type from the only numeric column to a more efficient subtype since we can't change it to an integer type because of the missing values in this column."
   ]
  },
  {
   "cell_type": "code",
   "execution_count": 11,
   "metadata": {},
   "outputs": [
    {
     "data": {
      "text/plain": [
       "{'company_name': {'category'},\n",
       " 'company_category_code': {'category'},\n",
       " 'company_country_code': {'category'},\n",
       " 'company_state_code': {'category'},\n",
       " 'company_region': {'category'},\n",
       " 'company_city': {'category'},\n",
       " 'investor_name': {'category'},\n",
       " 'investor_country_code': {'category'},\n",
       " 'investor_state_code': {'category'},\n",
       " 'investor_region': {'category'},\n",
       " 'investor_city': {'category'},\n",
       " 'funding_round_type': {'category'},\n",
       " 'raised_amount_usd': {'float32'}}"
      ]
     },
     "execution_count": 11,
     "metadata": {},
     "output_type": "execute_result"
    }
   ],
   "source": [
    "# Convert 'raised_amount_usd' column type to integer\n",
    "new_col_types = {}\n",
    "chunks = pd.read_csv('crunchbase-investments.csv', chunksize=5000, usecols=useful_cols, dtype=convert, header=0, encoding='ISO-8859-1')\n",
    "\n",
    "for chunk in chunks:\n",
    "    for col in less_50_cols:\n",
    "        chunk[col] = chunk[col].astype('category')\n",
    "        \n",
    "    chunk['raised_amount_usd'] = pd.to_numeric(chunk['raised_amount_usd'], downcast='float')\n",
    "    \n",
    "    for col in chunk.columns:\n",
    "        if col not in new_col_types:\n",
    "            new_col_types[col] = [str(chunk[col].dtypes)]\n",
    "        else:\n",
    "            new_col_types[col].append(str(chunk[col].dtypes))\n",
    "            \n",
    "for col in new_col_types:\n",
    "    new_col_types[col] = set(new_col_types[col])\n",
    "    \n",
    "new_col_types"
   ]
  },
  {
   "cell_type": "code",
   "execution_count": 12,
   "metadata": {},
   "outputs": [
    {
     "data": {
      "text/plain": [
       "6.266323089599609"
      ]
     },
     "execution_count": 12,
     "metadata": {},
     "output_type": "execute_result"
    }
   ],
   "source": [
    "# Calculate new total memory footprint of all chunks combined in megabytes\n",
    "chunks = pd.read_csv('crunchbase-investments.csv', chunksize=5000, usecols=useful_cols, dtype=convert, header=0, encoding='ISO-8859-1')\n",
    "\n",
    "cols_memory = []\n",
    "for chunk in chunks:\n",
    "    for col in less_50_cols:\n",
    "        chunk[col] = chunk[col].astype('category')\n",
    "        \n",
    "    chunk['raised_amount_usd'] = pd.to_numeric(chunk['raised_amount_usd'], downcast='float')\n",
    "    \n",
    "    cols_chunk_memory = chunk.memory_usage(deep=True)\n",
    "    cols_memory.append(cols_chunk_memory)\n",
    "\n",
    "new_combined_cols_memory = pd.concat(cols_memory)\n",
    "new_combined_cols_memory = new_combined_cols_memory.groupby(new_combined_cols_memory.index).sum().drop('Index')\n",
    "\n",
    "new_total_memory = new_combined_cols_memory.sum() / (2**20)\n",
    "new_total_memory"
   ]
  },
  {
   "cell_type": "markdown",
   "metadata": {},
   "source": [
    "After selecting only useful columns and converting column types, we saved an impressive amount of space since our memory usage went from almost 57 megabytes to approximately 6 megabytes."
   ]
  },
  {
   "cell_type": "markdown",
   "metadata": {},
   "source": [
    "# Loading Chunks into SQLite"
   ]
  },
  {
   "cell_type": "code",
   "execution_count": 13,
   "metadata": {},
   "outputs": [],
   "source": [
    "# Load chunks into a new SQL database file\n",
    "import sqlite3\n",
    "chunks = pd.read_csv('crunchbase-investments.csv', chunksize=5000, usecols=useful_cols, dtype=convert, header=0, encoding='ISO-8859-1')\n",
    "conn = sqlite3.connect('crunchbase.db')\n",
    "\n",
    "for chunk in chunks:\n",
    "    for col in less_50_cols:\n",
    "        chunk[col] = chunk[col].astype('category')\n",
    "        \n",
    "    chunk['raised_amount_usd'] = pd.to_numeric(chunk['raised_amount_usd'], downcast='float')\n",
    "    \n",
    "    chunk.to_sql('investments', conn, if_exists='append', index=False)"
   ]
  },
  {
   "cell_type": "code",
   "execution_count": 14,
   "metadata": {},
   "outputs": [
    {
     "data": {
      "text/html": [
       "<div>\n",
       "<style scoped>\n",
       "    .dataframe tbody tr th:only-of-type {\n",
       "        vertical-align: middle;\n",
       "    }\n",
       "\n",
       "    .dataframe tbody tr th {\n",
       "        vertical-align: top;\n",
       "    }\n",
       "\n",
       "    .dataframe thead th {\n",
       "        text-align: right;\n",
       "    }\n",
       "</style>\n",
       "<table border=\"1\" class=\"dataframe\">\n",
       "  <thead>\n",
       "    <tr style=\"text-align: right;\">\n",
       "      <th></th>\n",
       "      <th>company_name</th>\n",
       "      <th>company_category_code</th>\n",
       "      <th>company_country_code</th>\n",
       "      <th>company_state_code</th>\n",
       "      <th>company_region</th>\n",
       "      <th>company_city</th>\n",
       "      <th>investor_name</th>\n",
       "      <th>investor_country_code</th>\n",
       "      <th>investor_state_code</th>\n",
       "      <th>investor_region</th>\n",
       "      <th>investor_city</th>\n",
       "      <th>funding_round_type</th>\n",
       "      <th>raised_amount_usd</th>\n",
       "    </tr>\n",
       "  </thead>\n",
       "  <tbody>\n",
       "    <tr>\n",
       "      <th>0</th>\n",
       "      <td>AdverCar</td>\n",
       "      <td>advertising</td>\n",
       "      <td>USA</td>\n",
       "      <td>CA</td>\n",
       "      <td>SF Bay</td>\n",
       "      <td>San Francisco</td>\n",
       "      <td>1-800-FLOWERS.COM</td>\n",
       "      <td>USA</td>\n",
       "      <td>NY</td>\n",
       "      <td>New York</td>\n",
       "      <td>New York</td>\n",
       "      <td>series-a</td>\n",
       "      <td>2000000.0</td>\n",
       "    </tr>\n",
       "    <tr>\n",
       "      <th>1</th>\n",
       "      <td>LaunchGram</td>\n",
       "      <td>news</td>\n",
       "      <td>USA</td>\n",
       "      <td>CA</td>\n",
       "      <td>SF Bay</td>\n",
       "      <td>Mountain View</td>\n",
       "      <td>10Xelerator</td>\n",
       "      <td>USA</td>\n",
       "      <td>OH</td>\n",
       "      <td>Columbus</td>\n",
       "      <td>Columbus</td>\n",
       "      <td>other</td>\n",
       "      <td>20000.0</td>\n",
       "    </tr>\n",
       "    <tr>\n",
       "      <th>2</th>\n",
       "      <td>uTaP</td>\n",
       "      <td>messaging</td>\n",
       "      <td>USA</td>\n",
       "      <td>None</td>\n",
       "      <td>United States - Other</td>\n",
       "      <td>None</td>\n",
       "      <td>10Xelerator</td>\n",
       "      <td>USA</td>\n",
       "      <td>OH</td>\n",
       "      <td>Columbus</td>\n",
       "      <td>Columbus</td>\n",
       "      <td>other</td>\n",
       "      <td>20000.0</td>\n",
       "    </tr>\n",
       "    <tr>\n",
       "      <th>3</th>\n",
       "      <td>ZoopShop</td>\n",
       "      <td>software</td>\n",
       "      <td>USA</td>\n",
       "      <td>OH</td>\n",
       "      <td>Columbus</td>\n",
       "      <td>columbus</td>\n",
       "      <td>10Xelerator</td>\n",
       "      <td>USA</td>\n",
       "      <td>OH</td>\n",
       "      <td>Columbus</td>\n",
       "      <td>Columbus</td>\n",
       "      <td>angel</td>\n",
       "      <td>20000.0</td>\n",
       "    </tr>\n",
       "    <tr>\n",
       "      <th>4</th>\n",
       "      <td>eFuneral</td>\n",
       "      <td>web</td>\n",
       "      <td>USA</td>\n",
       "      <td>OH</td>\n",
       "      <td>Cleveland</td>\n",
       "      <td>Cleveland</td>\n",
       "      <td>10Xelerator</td>\n",
       "      <td>USA</td>\n",
       "      <td>OH</td>\n",
       "      <td>Columbus</td>\n",
       "      <td>Columbus</td>\n",
       "      <td>other</td>\n",
       "      <td>20000.0</td>\n",
       "    </tr>\n",
       "  </tbody>\n",
       "</table>\n",
       "</div>"
      ],
      "text/plain": [
       "  company_name company_category_code company_country_code company_state_code  \\\n",
       "0     AdverCar           advertising                  USA                 CA   \n",
       "1   LaunchGram                  news                  USA                 CA   \n",
       "2         uTaP             messaging                  USA               None   \n",
       "3     ZoopShop              software                  USA                 OH   \n",
       "4     eFuneral                   web                  USA                 OH   \n",
       "\n",
       "          company_region   company_city      investor_name  \\\n",
       "0                 SF Bay  San Francisco  1-800-FLOWERS.COM   \n",
       "1                 SF Bay  Mountain View        10Xelerator   \n",
       "2  United States - Other           None        10Xelerator   \n",
       "3               Columbus       columbus        10Xelerator   \n",
       "4              Cleveland      Cleveland        10Xelerator   \n",
       "\n",
       "  investor_country_code investor_state_code investor_region investor_city  \\\n",
       "0                   USA                  NY        New York      New York   \n",
       "1                   USA                  OH        Columbus      Columbus   \n",
       "2                   USA                  OH        Columbus      Columbus   \n",
       "3                   USA                  OH        Columbus      Columbus   \n",
       "4                   USA                  OH        Columbus      Columbus   \n",
       "\n",
       "  funding_round_type  raised_amount_usd  \n",
       "0           series-a          2000000.0  \n",
       "1              other            20000.0  \n",
       "2              other            20000.0  \n",
       "3              angel            20000.0  \n",
       "4              other            20000.0  "
      ]
     },
     "execution_count": 14,
     "metadata": {},
     "output_type": "execute_result"
    }
   ],
   "source": [
    "# Overview\n",
    "pd.read_sql('''SELECT *\n",
    "                 FROM investments\n",
    "                LIMIT 5''', conn)"
   ]
  }
 ],
 "metadata": {
  "anaconda-cloud": {},
  "kernelspec": {
   "display_name": "Python 3",
   "language": "python",
   "name": "python3"
  },
  "language_info": {
   "codemirror_mode": {
    "name": "ipython",
    "version": 3
   },
   "file_extension": ".py",
   "mimetype": "text/x-python",
   "name": "python",
   "nbconvert_exporter": "python",
   "pygments_lexer": "ipython3",
   "version": "3.8.2"
  }
 },
 "nbformat": 4,
 "nbformat_minor": 2
}
